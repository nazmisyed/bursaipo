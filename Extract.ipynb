{
  "cells": [
    {
      "cell_type": "code",
      "execution_count": 1,
      "metadata": {
        "id": "Y1hXkIo3NyWa"
      },
      "outputs": [],
      "source": [
        "# Using Azure Document Intelligence to Extract Data\n",
        "# https://learn.microsoft.com/en-us/python/api/overview/azure/ai-documentintelligence-readme?view=azure-python-preview&viewFallbackFrom=azure-python\n",
        "import json\n",
        "import pandas as pd\n",
        "from azure.core.credentials import AzureKeyCredential\n",
        "from azure.ai.formrecognizer import DocumentAnalysisClient\n",
        "import os\n",
        "import glob\n"
      ]
    },
    {
      "cell_type": "code",
      "execution_count": 2,
      "metadata": {},
      "outputs": [
        {
          "data": {
            "text/plain": [
              "True"
            ]
          },
          "execution_count": 2,
          "metadata": {},
          "output_type": "execute_result"
        }
      ],
      "source": [
        "from dotenv import load_dotenv\n",
        "load_dotenv() "
      ]
    },
    {
      "cell_type": "code",
      "execution_count": 3,
      "metadata": {
        "id": "MDyAjZCZt0cs"
      },
      "outputs": [],
      "source": [
        "endpoint = os.environ[\"DOCUMENTINTELLIGENCE_ENDPOINT\"]\n",
        "key = os.environ[\"DOCUMENTINTELLIGENCE_KEY\"]\n"
      ]
    },
    {
      "cell_type": "code",
      "execution_count": 4,
      "metadata": {},
      "outputs": [],
      "source": [
        "BURSAPDF_DATA_FOLDER_PATH=\"bursapdf/\"\n",
        "BURSACSV_DATA_FOLDER_PATH = \"bursacsv/\"\n",
        "if not os.path.exists(BURSACSV_DATA_FOLDER_PATH):\n",
        "    os.makedirs(BURSACSV_DATA_FOLDER_PATH)"
      ]
    },
    {
      "cell_type": "code",
      "execution_count": 5,
      "metadata": {
        "id": "zYHxwxMoqaBM"
      },
      "outputs": [],
      "source": [
        "def extract_tables_from_pdf_with_di(endpoint, key, file_path):\n",
        "  document_analysis_client = DocumentAnalysisClient(endpoint, AzureKeyCredential(key))\n",
        "  with open(file_path, \"rb\") as f:\n",
        "      poller = document_analysis_client.begin_analyze_document(\n",
        "          \"prebuilt-layout\", document=f\n",
        "      )\n",
        "  result = poller.result()\n",
        "\n",
        "  data_json = []\n",
        "  for table in result.tables:\n",
        "      table_list = []\n",
        "      for cell in table.cells:\n",
        "          table_list.append({\"row_index\":cell.row_index,\"column_index\":cell.column_index,\"content\":cell.content})\n",
        "      data_json.append({\"cells\":table_list,\"column_count\":table.column_count})\n",
        "  return  data_json"
      ]
    },
    {
      "cell_type": "code",
      "execution_count": 9,
      "metadata": {},
      "outputs": [],
      "source": [
        "def convert_to_dataframe(data_json):\n",
        "    df_list =[]\n",
        "    for record in data_json:\n",
        "        table_cells_list = record[\"cells\"] # \n",
        "        df = pd.DataFrame(table_cells_list)[[\"row_index\",\"column_index\",\"content\"]]\n",
        "        df_table = df.pivot(index=\"row_index\",columns=\"column_index\",values=\"content\")\n",
        "        df_table.columns = df_table.iloc[0]\n",
        "        df_table = df_table.drop(0)\n",
        "        df_table.reset_index(drop=True, inplace=True)\n",
        "        df_list.append(df_table)\n",
        "    df_all = pd.concat(df_list,ignore_index=True)\n",
        "\n",
        "    return df_all"
      ]
    },
    {
      "cell_type": "code",
      "execution_count": 10,
      "metadata": {},
      "outputs": [],
      "source": [
        "\n",
        "# Get all PDF files in the BURSAPDF_DATA_FOLDER_PATH\n",
        "pdf_files = glob.glob(BURSAPDF_DATA_FOLDER_PATH + \"*.pdf\")\n",
        "\n"
      ]
    },
    {
      "cell_type": "code",
      "execution_count": 12,
      "metadata": {},
      "outputs": [
        {
          "name": "stdout",
          "output_type": "stream",
          "text": [
            "File bursacsv/listed_companies_ip_2024-08-01.csv already exists. Skipping.\n",
            "File bursacsv/listed_companies_ip_2024-08-02.csv already exists. Skipping.\n",
            "File bursacsv/listed_companies_ip_2024-08-05.csv already exists. Skipping.\n"
          ]
        }
      ],
      "source": [
        "try:\n",
        "    for pdf_file in pdf_files:\n",
        "        # Extract tables from the PDF\n",
        "        csv_file = os.path.join(BURSACSV_DATA_FOLDER_PATH, os.path.basename(pdf_file).replace(\".pdf\", \".csv\"))\n",
        "        \n",
        "        # Check if the CSV file already exists\n",
        "        if os.path.exists(csv_file):\n",
        "            print(f\"File {csv_file} already exists. Skipping.\")\n",
        "            continue\n",
        "\n",
        "        extracted_data = extract_tables_from_pdf_with_di(endpoint, key, pdf_file)\n",
        "        \n",
        "        # Convert the extracted data to a dataframe\n",
        "        df = convert_to_dataframe(extracted_data)\n",
        "        \n",
        "        # Generate the CSV file path\n",
        " \n",
        "        \n",
        "        # Save the dataframe to a CSV file\n",
        "        df.to_csv(csv_file, index=False)\n",
        "except Exception as e:\n",
        "    print(f\"An error occurred: {e}\")\n"
      ]
    },
    {
      "cell_type": "code",
      "execution_count": 24,
      "metadata": {},
      "outputs": [],
      "source": []
    },
    {
      "cell_type": "code",
      "execution_count": null,
      "metadata": {},
      "outputs": [],
      "source": []
    }
  ],
  "metadata": {
    "colab": {
      "provenance": []
    },
    "kernelspec": {
      "display_name": "nb310",
      "language": "python",
      "name": "python3"
    },
    "language_info": {
      "codemirror_mode": {
        "name": "ipython",
        "version": 3
      },
      "file_extension": ".py",
      "mimetype": "text/x-python",
      "name": "python",
      "nbconvert_exporter": "python",
      "pygments_lexer": "ipython3",
      "version": "3.10.14"
    }
  },
  "nbformat": 4,
  "nbformat_minor": 0
}
