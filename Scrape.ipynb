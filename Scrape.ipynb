{
 "cells": [
  {
   "cell_type": "code",
   "execution_count": 10,
   "metadata": {},
   "outputs": [],
   "source": [
    "import calendar\n",
    "from datetime import datetime\n",
    "import requests\n",
    "import os\n",
    "import time\n",
    "import random"
   ]
  },
  {
   "cell_type": "code",
   "execution_count": 19,
   "metadata": {},
   "outputs": [],
   "source": [
    "def get_weekday_dates(month, year):\n",
    "    # Iterate through each day of the month\n",
    "    # List to store the dates of weekdays\n",
    "    weekday_dates = []\n",
    "    \n",
    "    # Get the number of days in the month\n",
    "    num_days = calendar.monthrange(year, month)[1]\n",
    "    for day in range(1, num_days + 1):\n",
    "        date = datetime(year, month, day)\n",
    "        # Check if the day is a weekday (Monday to Friday)\n",
    "        if date.weekday() < 5:  # Monday is 0 and Sunday is 6\n",
    "            weekday_dates.append(date.strftime('%Y-%m-%d'))\n",
    "    \n",
    "    return weekday_dates"
   ]
  },
  {
   "cell_type": "code",
   "execution_count": 25,
   "metadata": {},
   "outputs": [],
   "source": [
    "def download_pdfs(date_list):\n",
    "    for date_str in date_list:\n",
    "        url = f\"https://www.bursamalaysia.com/misc/missftp/listed_companies/listed_companies_ip_{date_str}.pdf\"\n",
    "        try:\n",
    "            response = requests.get(url)\n",
    "            response.raise_for_status()  # Check if the request was successful\n",
    "            \n",
    "            # Check if the 'bursapdf' folder exists, if not, create it\n",
    "            if not os.path.exists('bursapdf'):\n",
    "                os.makedirs('bursapdf')\n",
    "            with open(f\"bursapdf/listed_companies_ip_{date_str}.pdf\", 'wb') as file:\n",
    "                file.write(response.content)\n",
    "            \n",
    "            print(f\"Downloaded: listed_companies_ip_{date_str}.pdf\")\n",
    "        except requests.exceptions.RequestException as e:\n",
    "            print(f\"Failed to download {url}: {e}\")\n",
    "        \n",
    "        # Add a random wait between 1 to 5 seconds\n",
    "        time.sleep(random.randint(1, 5))"
   ]
  },
  {
   "cell_type": "code",
   "execution_count": 21,
   "metadata": {},
   "outputs": [
    {
     "name": "stdout",
     "output_type": "stream",
     "text": [
      "Downloaded: listed_companies_ip_2024-08-01.pdf\n",
      "Downloaded: listed_companies_ip_2024-08-02.pdf\n",
      "Downloaded: listed_companies_ip_2024-08-05.pdf\n",
      "Downloaded: listed_companies_ip_2024-08-06.pdf\n",
      "Downloaded: listed_companies_ip_2024-08-07.pdf\n",
      "Downloaded: listed_companies_ip_2024-08-08.pdf\n",
      "Failed to download https://www.bursamalaysia.com/misc/missftp/listed_companies/listed_companies_ip_2024-08-09.pdf: 404 Client Error: Not Found for url: https://www.bursamalaysia.com/misc/missftp/listed_companies/listed_companies_ip_2024-08-09.pdf\n",
      "Downloaded: listed_companies_ip_2024-08-12.pdf\n",
      "Downloaded: listed_companies_ip_2024-08-13.pdf\n",
      "Downloaded: listed_companies_ip_2024-08-14.pdf\n",
      "Downloaded: listed_companies_ip_2024-08-15.pdf\n",
      "Downloaded: listed_companies_ip_2024-08-16.pdf\n",
      "Downloaded: listed_companies_ip_2024-08-19.pdf\n",
      "Downloaded: listed_companies_ip_2024-08-20.pdf\n",
      "Downloaded: listed_companies_ip_2024-08-21.pdf\n",
      "Downloaded: listed_companies_ip_2024-08-22.pdf\n",
      "Downloaded: listed_companies_ip_2024-08-23.pdf\n",
      "Downloaded: listed_companies_ip_2024-08-26.pdf\n",
      "Downloaded: listed_companies_ip_2024-08-27.pdf\n",
      "Downloaded: listed_companies_ip_2024-08-28.pdf\n",
      "Downloaded: listed_companies_ip_2024-08-29.pdf\n",
      "Downloaded: listed_companies_ip_2024-08-30.pdf\n"
     ]
    }
   ],
   "source": [
    "# August\n",
    "aug_date = get_weekday_dates(8, 2024)\n",
    "download_pdfs(aug_date)\n"
   ]
  },
  {
   "cell_type": "code",
   "execution_count": 22,
   "metadata": {},
   "outputs": [
    {
     "name": "stdout",
     "output_type": "stream",
     "text": [
      "Downloaded: listed_companies_ip_2024-09-02.pdf\n",
      "Downloaded: listed_companies_ip_2024-09-03.pdf\n",
      "Downloaded: listed_companies_ip_2024-09-04.pdf\n",
      "Downloaded: listed_companies_ip_2024-09-05.pdf\n",
      "Downloaded: listed_companies_ip_2024-09-06.pdf\n",
      "Downloaded: listed_companies_ip_2024-09-09.pdf\n",
      "Downloaded: listed_companies_ip_2024-09-10.pdf\n",
      "Downloaded: listed_companies_ip_2024-09-11.pdf\n",
      "Downloaded: listed_companies_ip_2024-09-12.pdf\n",
      "Downloaded: listed_companies_ip_2024-09-13.pdf\n",
      "Failed to download https://www.bursamalaysia.com/misc/missftp/listed_companies/listed_companies_ip_2024-09-16.pdf: 404 Client Error: Not Found for url: https://www.bursamalaysia.com/misc/missftp/listed_companies/listed_companies_ip_2024-09-16.pdf\n",
      "Downloaded: listed_companies_ip_2024-09-17.pdf\n",
      "Downloaded: listed_companies_ip_2024-09-18.pdf\n",
      "Downloaded: listed_companies_ip_2024-09-19.pdf\n",
      "Downloaded: listed_companies_ip_2024-09-20.pdf\n",
      "Downloaded: listed_companies_ip_2024-09-23.pdf\n",
      "Downloaded: listed_companies_ip_2024-09-24.pdf\n",
      "Downloaded: listed_companies_ip_2024-09-25.pdf\n",
      "Downloaded: listed_companies_ip_2024-09-26.pdf\n",
      "Downloaded: listed_companies_ip_2024-09-27.pdf\n",
      "Downloaded: listed_companies_ip_2024-09-30.pdf\n"
     ]
    }
   ],
   "source": [
    "# Sep\n",
    "sep_date = get_weekday_dates(9, 2024)\n",
    "download_pdfs(sep_date)"
   ]
  },
  {
   "cell_type": "code",
   "execution_count": 23,
   "metadata": {},
   "outputs": [
    {
     "name": "stdout",
     "output_type": "stream",
     "text": [
      "Downloaded: listed_companies_ip_2024-10-01.pdf\n",
      "Downloaded: listed_companies_ip_2024-10-02.pdf\n",
      "Downloaded: listed_companies_ip_2024-10-03.pdf\n",
      "Downloaded: listed_companies_ip_2024-10-04.pdf\n",
      "Downloaded: listed_companies_ip_2024-10-07.pdf\n",
      "Downloaded: listed_companies_ip_2024-10-08.pdf\n",
      "Downloaded: listed_companies_ip_2024-10-09.pdf\n",
      "Downloaded: listed_companies_ip_2024-10-10.pdf\n",
      "Downloaded: listed_companies_ip_2024-10-11.pdf\n",
      "Downloaded: listed_companies_ip_2024-10-14.pdf\n",
      "Downloaded: listed_companies_ip_2024-10-15.pdf\n",
      "Downloaded: listed_companies_ip_2024-10-16.pdf\n",
      "Downloaded: listed_companies_ip_2024-10-17.pdf\n",
      "Downloaded: listed_companies_ip_2024-10-18.pdf\n",
      "Downloaded: listed_companies_ip_2024-10-21.pdf\n",
      "Downloaded: listed_companies_ip_2024-10-22.pdf\n",
      "Downloaded: listed_companies_ip_2024-10-23.pdf\n",
      "Failed to download https://www.bursamalaysia.com/misc/missftp/listed_companies/listed_companies_ip_2024-10-24.pdf: 404 Client Error: Not Found for url: https://www.bursamalaysia.com/misc/missftp/listed_companies/listed_companies_ip_2024-10-24.pdf\n",
      "Failed to download https://www.bursamalaysia.com/misc/missftp/listed_companies/listed_companies_ip_2024-10-25.pdf: 404 Client Error: Not Found for url: https://www.bursamalaysia.com/misc/missftp/listed_companies/listed_companies_ip_2024-10-25.pdf\n",
      "Failed to download https://www.bursamalaysia.com/misc/missftp/listed_companies/listed_companies_ip_2024-10-28.pdf: 404 Client Error: Not Found for url: https://www.bursamalaysia.com/misc/missftp/listed_companies/listed_companies_ip_2024-10-28.pdf\n",
      "Failed to download https://www.bursamalaysia.com/misc/missftp/listed_companies/listed_companies_ip_2024-10-29.pdf: 404 Client Error: Not Found for url: https://www.bursamalaysia.com/misc/missftp/listed_companies/listed_companies_ip_2024-10-29.pdf\n",
      "Failed to download https://www.bursamalaysia.com/misc/missftp/listed_companies/listed_companies_ip_2024-10-30.pdf: 404 Client Error: Not Found for url: https://www.bursamalaysia.com/misc/missftp/listed_companies/listed_companies_ip_2024-10-30.pdf\n",
      "Failed to download https://www.bursamalaysia.com/misc/missftp/listed_companies/listed_companies_ip_2024-10-31.pdf: 404 Client Error: Not Found for url: https://www.bursamalaysia.com/misc/missftp/listed_companies/listed_companies_ip_2024-10-31.pdf\n"
     ]
    }
   ],
   "source": [
    "# Oct\n",
    "oct_date = get_weekday_dates(10, 2024)\n",
    "download_pdfs(oct_date)"
   ]
  },
  {
   "cell_type": "code",
   "execution_count": 24,
   "metadata": {},
   "outputs": [
    {
     "data": {
      "text/plain": [
       "22"
      ]
     },
     "execution_count": 24,
     "metadata": {},
     "output_type": "execute_result"
    }
   ],
   "source": [
    "len(aug_date)"
   ]
  },
  {
   "cell_type": "code",
   "execution_count": null,
   "metadata": {},
   "outputs": [],
   "source": []
  }
 ],
 "metadata": {
  "kernelspec": {
   "display_name": "nb310",
   "language": "python",
   "name": "python3"
  },
  "language_info": {
   "codemirror_mode": {
    "name": "ipython",
    "version": 3
   },
   "file_extension": ".py",
   "mimetype": "text/x-python",
   "name": "python",
   "nbconvert_exporter": "python",
   "pygments_lexer": "ipython3",
   "version": "3.10.14"
  }
 },
 "nbformat": 4,
 "nbformat_minor": 2
}
